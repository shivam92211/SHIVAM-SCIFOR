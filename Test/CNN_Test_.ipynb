{
  "cells": [
    {
      "cell_type": "markdown",
      "id": "e0c4baad-d1a8-4f70-9e35-3dd020aec147",
      "metadata": {
        "id": "e0c4baad-d1a8-4f70-9e35-3dd020aec147"
      },
      "source": [
        "# Test 6.0"
      ]
    },
    {
      "cell_type": "markdown",
      "id": "2e56f0c2-a355-432e-94a1-6f7c0ee8c3a7",
      "metadata": {
        "id": "2e56f0c2-a355-432e-94a1-6f7c0ee8c3a7"
      },
      "source": [
        "## Theory Question\n",
        "\n",
        "\n",
        "Question 1: Explain InceptionNet with its modules.\n",
        "\n",
        "Question 2: Explain Residual Networks (ResNet) and discuss why they are considered advantageous compared to other architectures."
      ]
    },
    {
      "cell_type": "markdown",
      "id": "e4c3045e-ad1e-4597-b16c-3c196838f093",
      "metadata": {
        "id": "e4c3045e-ad1e-4597-b16c-3c196838f093"
      },
      "source": [
        "## Practicle Question\n",
        "\n",
        "- Load the chess dataset\n",
        "    "
      ]
    },
    {
      "cell_type": "raw",
      "id": "1ba2a31a-3cb3-41d2-a08c-0fca82cd9e97",
      "metadata": {
        "id": "1ba2a31a-3cb3-41d2-a08c-0fca82cd9e97"
      },
      "source": [
        "# Code for loading the dataset and plotting, with folder name\n",
        "import os\n",
        "from PIL import Image\n",
        "import numpy as np\n",
        "import matplotlib.pyplot as plt\n",
        "\n",
        "# Set up the directory path where your dataset is located\n",
        "dataset_directory = 'path of your dataset'\n",
        "\n",
        "# Function to load the dataset\n",
        "def load_dataset(directory):\n",
        "    images = []\n",
        "    labels = []\n",
        "    class_names = sorted(os.listdir(directory))  # Assumes each subdirectory is a class\n",
        "\n",
        "    for i, class_name in enumerate(class_names):\n",
        "        class_directory = os.path.join(directory, class_name)\n",
        "        for filename in os.listdir(class_directory):\n",
        "            if filename.endswith('.jpg') or filename.endswith('.png'):\n",
        "                image_path = os.path.join(class_directory, filename)\n",
        "                image = Image.open(image_path)\n",
        "                image = image.resize((150, 150))  # Resize if necessary\n",
        "                image = np.array(image) / 255.0  # Normalize pixel values to [0, 1]\n",
        "                images.append(image)\n",
        "                labels.append(i)  # Store index of the class\n",
        "\n",
        "    images = np.array(images)\n",
        "    labels = np.array(labels)\n",
        "\n",
        "    return images, labels, class_names\n",
        "\n",
        "# Usage example\n",
        "images, labels, class_names = load_dataset(dataset_directory)\n",
        "\n",
        "# Print shape of loaded data for verification\n",
        "print(\"Loaded images shape:\", images.shape)\n",
        "print(\"Loaded labels shape: /n Images with Folder name\", labels.shape, \"/n Images with Folder name\")\n",
        "\n",
        "# Plotting example: Plot one example image from each class\n",
        "num_classes = len(class_names)\n",
        "fig, axes = plt.subplots(1, num_classes, figsize=(15, 3))\n",
        "\n",
        "for i, class_name in enumerate(class_names):\n",
        "    class_indices = np.where(labels == i)[0]\n",
        "    example_image = images[class_indices[0]]\n",
        "    axes[i].imshow(example_image)\n",
        "    axes[i].set_title(class_name)\n",
        "    axes[i].axis('off')\n",
        "\n",
        "plt.tight_layout()\n",
        "plt.show()\n"
      ]
    },
    {
      "cell_type": "markdown",
      "id": "77a67cf1-28bc-4cca-9824-510a8340fa30",
      "metadata": {
        "id": "77a67cf1-28bc-4cca-9824-510a8340fa30"
      },
      "source": [
        "# Step by Step instruction"
      ]
    },
    {
      "cell_type": "markdown",
      "id": "6f65d282-7ae9-4bc6-9358-bb7f71712e06",
      "metadata": {
        "id": "6f65d282-7ae9-4bc6-9358-bb7f71712e06"
      },
      "source": [
        "#### Step 1: Load and Prepare the Dataset using ImageDataGenerator\n",
        "\n",
        "    Task:\n",
        "        - Load the Chessman Image Dataset from the specified directory using ImageDataGenerator. Specify the path to the dataset directory.\n",
        "        - Create instances of ImageDataGenerator for training and validation, including data augmentation techniques.\n",
        "\n",
        "        -  Generate batches of augmented image data for training and validation\n",
        "            train_generator = train_datagen.flow_from_directory(\n",
        "                train_data_dir,\n",
        "                target_size=(224, 224),  # Adjust according to your model's input shape\n",
        "                batch_size=32,\n",
        "                class_mode='categorical',\n",
        "                subset='Traning'\n",
        "                )\n",
        "\n",
        "            validation_generator = valid_datagen.flow_from_directory(\n",
        "                valid_data_dir,\n",
        "                target_size=(224, 224),  # Adjust according to your model's input shape\n",
        "                batch_size=32,\n",
        "                class_mode='categorical',\n",
        "                subset='Validation'\n",
        "                )\n",
        "        \n",
        "#### Step 2: Define the Alexnet Architecture\n",
        "\n",
        "    Task:\n",
        "        - Construct a basic Alexnet architecture for image classification.Start with an input layer suitable for your dataset dimensions.(use 32  kernel filters only on each layer)\n",
        "        - Stack convolutional layers (Conv2D) followed by pooling layers (MaxPooling2D).\n",
        "        - Add fully connected layers (Dense) at the end with appropriate activation functions.\n",
        "\n",
        "#### Step 3: Compile the Model\n",
        "\n",
        "    Task:\n",
        "        - Compile the ALexnet model for training.\n",
        "        - Choose an appropriate optimizer (e.g., Adam).\n",
        "        - Specify a loss function (e.g., categorical crossentropy) suitable for multi-class classification.\n",
        "        - Add metrics to monitor during training (e.g., accuracy).\n",
        "\n",
        "#### Step 4: Train the Model\n",
        "\n",
        "    Task:\n",
        "        - Train the Alexnet model using the training data prepared with ImageDataGenerator.\n",
        "        - Fit the model using model.fit method, passing the training generator.\n",
        "        - Specify number of epochs and batch size based on computational resources and dataset size.\n",
        "\n",
        "#### Step 5: Evaluate the Model\n",
        "\n",
        "    Task:\n",
        "        - Evaluate the trained model on the validation data.\n",
        "        - Use model.evaluate to calculate the model's performance metrics on unseen data.\n",
        "        - Analyze metrics such as accuracy to assess model performance.\n",
        "\n",
        "#### Step 6: Plot Training and Testing Loss\n",
        "#### Step 7: Save the model in .h5 extension\n",
        "#### Step 8: Load the model\n",
        "#### Step 9: Test the model\n",
        "    "
      ]
    },
    {
      "cell_type": "code",
      "execution_count": null,
      "id": "3e2e0c2c-a541-4742-9479-ca237c084a5c",
      "metadata": {
        "id": "3e2e0c2c-a541-4742-9479-ca237c084a5c"
      },
      "outputs": [],
      "source": [
        "#AI/ML Trainer - Saurav\n",
        "#Date 14 June 2024\n",
        "#Time - 12:20"
      ]
    },
    {
      "cell_type": "markdown",
      "source": [
        "## Question 1\n",
        "\n",
        "- InceptionNet (Originally called GoogLeNet) was a deep convolutional neural network architecture introduced by Google in 2014 like LeNet-5.\n",
        "- A popular design, due to being very efficient and parameter light yet capable of deep architectures, used to handle the depth and width of convolutional neural networks in order to capture an extreme amount of spatial features for a reasonable computational cost.\n",
        "- GoogLeNet (Inception v1)Introduced in the paper \"Going Deeper with Convolutions\" (2014) 22 layers deep, and composed of 9 Inception modules\n",
        "- Significantly reduced the number of parameters as compared to previous architectures like AlexNet and VGG.\n",
        "- Inception v2 refined the Inception modules that resulted in improving the original GoogLeNet. Enhanced convergence and training speed using Batch Normalization (BatchNorm) Even lower computational cost and improved performance"
      ],
      "metadata": {
        "id": "Q24A9rB1pemp"
      },
      "id": "Q24A9rB1pemp"
    },
    {
      "cell_type": "markdown",
      "source": [
        "## Question 2\n",
        "\n",
        "Residual Networks (ResNet) is a type of deep neural network architecture which is used in problems where you need to train very deep networks. Introduced by He et al. ResNet in the paper \"Deep Residual Learning for Image Recognition\" (2015), which allowed the training of networks that are hundreds or even thousands of layers deep without problems of the vanishing gradient.\n",
        "\n",
        "- **ResNet MeritsMitigating the Vanishing Gradient Problem:** With the help of residual connections, ResNet makes it easier for the gradients to flow through the network while backpropagating and avoid vanishing in very deep networks.\n",
        "- **Deeper Network Training and Generalization:** Residual connections enable training of very deep networks that leads to improved performance on challenging tasks.In practice, ResNets demonstrate that generalizing to new data can be improved in vision.\n",
        "- **Less complicated Network Design:** The design of a residual block is simple and modular, so constructing and extending deeper networks is simple.\n",
        "- **Flexibility:** The design of ResNet can be adapted to different tasks beyond image classification, like object detection, segmentation, and other vision tasks."
      ],
      "metadata": {
        "id": "_OTMez7SqK4t"
      },
      "id": "_OTMez7SqK4t"
    },
    {
      "cell_type": "code",
      "source": [
        "!mkdir -p ~/.kaggle\n",
        "!cp kaggle.json ~/.kaggle/"
      ],
      "metadata": {
        "colab": {
          "base_uri": "https://localhost:8080/"
        },
        "id": "usVf4S75WhMy",
        "outputId": "400d0ce0-9958-4c0a-a74c-7328e9f7f8e7"
      },
      "id": "usVf4S75WhMy",
      "execution_count": 16,
      "outputs": [
        {
          "output_type": "stream",
          "name": "stdout",
          "text": [
            "cp: cannot stat 'kaggle.json': No such file or directory\n"
          ]
        }
      ]
    },
    {
      "cell_type": "code",
      "source": [
        "! kaggle datasets download -d yaswanthgali/sport-celebrity-image-classification"
      ],
      "metadata": {
        "colab": {
          "base_uri": "https://localhost:8080/"
        },
        "id": "743BIEtld6lE",
        "outputId": "a31b85bc-3836-48ba-a9cd-8db5eb1b9f72"
      },
      "id": "743BIEtld6lE",
      "execution_count": 18,
      "outputs": [
        {
          "output_type": "stream",
          "name": "stdout",
          "text": [
            "Dataset URL: https://www.kaggle.com/datasets/yaswanthgali/sport-celebrity-image-classification\n",
            "License(s): CC0-1.0\n",
            "Downloading sport-celebrity-image-classification.zip to /content\n",
            " 88% 13.0M/14.8M [00:01<00:00, 13.7MB/s]\n",
            "100% 14.8M/14.8M [00:01<00:00, 8.88MB/s]\n"
          ]
        }
      ]
    },
    {
      "cell_type": "code",
      "source": [
        "import zipfile\n",
        "zip_ref = zipfile.ZipFile('/content/sport-celebrity-image-classification.zip', 'r')\n",
        "zip_ref.extractall('/content')\n",
        "zip_ref.close()"
      ],
      "metadata": {
        "id": "835wRiwleBpd"
      },
      "id": "835wRiwleBpd",
      "execution_count": 19,
      "outputs": []
    },
    {
      "cell_type": "code",
      "source": [
        "import tensorflow as tf\n",
        "from tensorflow import keras\n",
        "from keras import Sequential\n",
        "from keras.layers import Dense,Conv2D,MaxPooling2D,Flatten,BatchNormalization,Dropout"
      ],
      "metadata": {
        "id": "B3wZi6p6ef6_"
      },
      "id": "B3wZi6p6ef6_",
      "execution_count": 20,
      "outputs": []
    },
    {
      "cell_type": "code",
      "source": [
        "# Define the paths\n",
        "train_data_dir = '/content/Sports-celebrity'\n",
        "valid_data_dir = '/content/Sports-celebrity'"
      ],
      "metadata": {
        "id": "MfPQtOyUj6eR"
      },
      "id": "MfPQtOyUj6eR",
      "execution_count": 31,
      "outputs": []
    },
    {
      "cell_type": "code",
      "source": [
        "\n",
        "# Create instances of ImageDataGenerator\n",
        "train_datagen = ImageDataGenerator(\n",
        "    rescale=1.0/255.0,\n",
        "    rotation_range=40,\n",
        "    width_shift_range=0.2,\n",
        "    height_shift_range=0.2,\n",
        "    shear_range=0.2,\n",
        "    zoom_range=0.2,\n",
        "    horizontal_flip=True,\n",
        "    fill_mode='nearest'\n",
        ")\n",
        "\n",
        "valid_datagen = ImageDataGenerator(\n",
        "    rescale=1.0/255.0\n",
        ")\n",
        "\n",
        "# Generate batches of augmented image data\n",
        "train_generator = train_datagen.flow_from_directory(\n",
        "    train_data_dir,\n",
        "    target_size=(224, 224),\n",
        "    batch_size=32,\n",
        "    class_mode='categorical'\n",
        ")\n",
        "\n",
        "validation_generator = valid_datagen.flow_from_directory(\n",
        "    valid_data_dir,\n",
        "    target_size=(224, 224),\n",
        "    batch_size=32,\n",
        "    class_mode='categorical'\n",
        ")\n"
      ],
      "metadata": {
        "colab": {
          "base_uri": "https://localhost:8080/"
        },
        "id": "sSrUblYgkA36",
        "outputId": "6d95d133-7bb7-40d8-8224-7e806060d363"
      },
      "id": "sSrUblYgkA36",
      "execution_count": 32,
      "outputs": [
        {
          "output_type": "stream",
          "name": "stdout",
          "text": [
            "Found 441 images belonging to 4 classes.\n",
            "Found 441 images belonging to 4 classes.\n"
          ]
        }
      ]
    },
    {
      "cell_type": "code",
      "source": [
        "\n",
        "# Define the input shape\n",
        "input_shape = (224, 224, 3)\n",
        "num_classes = 6\n",
        "\n",
        "# Create the model\n",
        "model = Sequential()\n",
        "\n",
        "# 1st Convolutional Layer\n",
        "model.add(Conv2D(32, kernel_size=(11, 11), strides=(4, 4), activation='relu', input_shape=input_shape))\n",
        "model.add(MaxPooling2D(pool_size=(3, 3), strides=(2, 2)))\n",
        "\n",
        "# 2nd Convolutional Layer\n",
        "model.add(Conv2D(32, kernel_size=(5, 5), activation='relu'))\n",
        "model.add(MaxPooling2D(pool_size=(3, 3), strides=(2, 2)))\n",
        "\n",
        "# 3rd Convolutional Layer\n",
        "model.add(Conv2D(32, kernel_size=(3, 3), activation='relu'))\n",
        "\n",
        "# 4th Convolutional Layer\n",
        "model.add(Conv2D(32, kernel_size=(3, 3), activation='relu'))\n",
        "\n",
        "# 5th Convolutional Layer\n",
        "model.add(Conv2D(32, kernel_size=(3, 3), activation='relu'))\n",
        "model.add(MaxPooling2D(pool_size=(3, 3), strides=(2, 2)))\n",
        "\n",
        "# Flatten the output of the last pooling layer\n",
        "model.add(Flatten())\n",
        "\n",
        "# Fully Connected Layers\n",
        "model.add(Dense(4096, activation='relu'))\n",
        "model.add(Dropout(0.5))\n",
        "\n",
        "model.add(Dense(4096, activation='relu'))\n",
        "model.add(Dropout(0.5))\n",
        "\n",
        "# Output Layer\n",
        "model.add(Dense(4, activation='softmax'))\n"
      ],
      "metadata": {
        "id": "3MSw_JB-kHDP"
      },
      "id": "3MSw_JB-kHDP",
      "execution_count": 39,
      "outputs": []
    },
    {
      "cell_type": "code",
      "source": [
        "# Compile the model\n",
        "model.compile(optimizer='adam',\n",
        "              loss='categorical_crossentropy',\n",
        "              metrics=['accuracy'])\n"
      ],
      "metadata": {
        "id": "zdyx2ISWkKfx"
      },
      "id": "zdyx2ISWkKfx",
      "execution_count": 40,
      "outputs": []
    },
    {
      "cell_type": "code",
      "source": [
        "# Print the model summary\n",
        "model.summary()"
      ],
      "metadata": {
        "colab": {
          "base_uri": "https://localhost:8080/"
        },
        "id": "qAojsCO6kNJA",
        "outputId": "9cf79ec6-9514-4003-cb0f-3a578803c984"
      },
      "id": "qAojsCO6kNJA",
      "execution_count": 41,
      "outputs": [
        {
          "output_type": "stream",
          "name": "stdout",
          "text": [
            "Model: \"sequential_3\"\n",
            "_________________________________________________________________\n",
            " Layer (type)                Output Shape              Param #   \n",
            "=================================================================\n",
            " conv2d_15 (Conv2D)          (None, 54, 54, 32)        11648     \n",
            "                                                                 \n",
            " max_pooling2d_9 (MaxPoolin  (None, 26, 26, 32)        0         \n",
            " g2D)                                                            \n",
            "                                                                 \n",
            " conv2d_16 (Conv2D)          (None, 22, 22, 32)        25632     \n",
            "                                                                 \n",
            " max_pooling2d_10 (MaxPooli  (None, 10, 10, 32)        0         \n",
            " ng2D)                                                           \n",
            "                                                                 \n",
            " conv2d_17 (Conv2D)          (None, 8, 8, 32)          9248      \n",
            "                                                                 \n",
            " conv2d_18 (Conv2D)          (None, 6, 6, 32)          9248      \n",
            "                                                                 \n",
            " conv2d_19 (Conv2D)          (None, 4, 4, 32)          9248      \n",
            "                                                                 \n",
            " max_pooling2d_11 (MaxPooli  (None, 1, 1, 32)          0         \n",
            " ng2D)                                                           \n",
            "                                                                 \n",
            " flatten_3 (Flatten)         (None, 32)                0         \n",
            "                                                                 \n",
            " dense_8 (Dense)             (None, 4096)              135168    \n",
            "                                                                 \n",
            " dropout_6 (Dropout)         (None, 4096)              0         \n",
            "                                                                 \n",
            " dense_9 (Dense)             (None, 4096)              16781312  \n",
            "                                                                 \n",
            " dropout_7 (Dropout)         (None, 4096)              0         \n",
            "                                                                 \n",
            " dense_10 (Dense)            (None, 4)                 16388     \n",
            "                                                                 \n",
            "=================================================================\n",
            "Total params: 16997892 (64.84 MB)\n",
            "Trainable params: 16997892 (64.84 MB)\n",
            "Non-trainable params: 0 (0.00 Byte)\n",
            "_________________________________________________________________\n"
          ]
        }
      ]
    },
    {
      "cell_type": "code",
      "source": [
        "# Define number of epochs and batch size\n",
        "epochs = 10\n",
        "batch_size = 32\n",
        "\n",
        "history = model.fit(\n",
        "    train_generator,\n",
        "    steps_per_epoch=train_generator.samples // batch_size,\n",
        "    epochs=epochs,\n",
        "    validation_data=validation_generator,\n",
        "    validation_steps=validation_generator.samples // batch_size\n",
        ")\n"
      ],
      "metadata": {
        "colab": {
          "base_uri": "https://localhost:8080/"
        },
        "id": "0aNkAADnkQVs",
        "outputId": "622e8b5b-0c12-4613-8692-e52cfe235b99"
      },
      "id": "0aNkAADnkQVs",
      "execution_count": 42,
      "outputs": [
        {
          "output_type": "stream",
          "name": "stdout",
          "text": [
            "Epoch 1/10\n",
            "13/13 [==============================] - 12s 586ms/step - loss: 1.3945 - accuracy: 0.2494 - val_loss: 1.3870 - val_accuracy: 0.2668\n",
            "Epoch 2/10\n",
            "13/13 [==============================] - 8s 594ms/step - loss: 1.3941 - accuracy: 0.2347 - val_loss: 1.3852 - val_accuracy: 0.2476\n",
            "Epoch 3/10\n",
            "13/13 [==============================] - 9s 723ms/step - loss: 1.3848 - accuracy: 0.2567 - val_loss: 1.3285 - val_accuracy: 0.3582\n",
            "Epoch 4/10\n",
            "13/13 [==============================] - 6s 499ms/step - loss: 1.3120 - accuracy: 0.3765 - val_loss: 1.2727 - val_accuracy: 0.4423\n",
            "Epoch 5/10\n",
            "13/13 [==============================] - 9s 729ms/step - loss: 1.3182 - accuracy: 0.4083 - val_loss: 1.2652 - val_accuracy: 0.3486\n",
            "Epoch 6/10\n",
            "13/13 [==============================] - 8s 611ms/step - loss: 1.2577 - accuracy: 0.4377 - val_loss: 1.2017 - val_accuracy: 0.4976\n",
            "Epoch 7/10\n",
            "13/13 [==============================] - 7s 523ms/step - loss: 1.2486 - accuracy: 0.4719 - val_loss: 1.2319 - val_accuracy: 0.4255\n",
            "Epoch 8/10\n",
            "13/13 [==============================] - 9s 729ms/step - loss: 1.2185 - accuracy: 0.4621 - val_loss: 1.1611 - val_accuracy: 0.5024\n",
            "Epoch 9/10\n",
            "13/13 [==============================] - 7s 579ms/step - loss: 1.1880 - accuracy: 0.4784 - val_loss: 1.2512 - val_accuracy: 0.5048\n",
            "Epoch 10/10\n",
            "13/13 [==============================] - 6s 501ms/step - loss: 1.2240 - accuracy: 0.4768 - val_loss: 1.1137 - val_accuracy: 0.5361\n"
          ]
        }
      ]
    },
    {
      "cell_type": "code",
      "source": [
        "# Evaluate the model on the validation data\n",
        "validation_loss, validation_accuracy = model.evaluate(validation_generator)\n",
        "\n",
        "print(f\"Validation Loss: {validation_loss}\")\n",
        "print(f\"Validation Accuracy: {validation_accuracy}\")"
      ],
      "metadata": {
        "colab": {
          "base_uri": "https://localhost:8080/"
        },
        "id": "jz-H2tD6kTBE",
        "outputId": "a9de4838-bcb0-4632-9fe2-9eea4a68e58f"
      },
      "id": "jz-H2tD6kTBE",
      "execution_count": 43,
      "outputs": [
        {
          "output_type": "stream",
          "name": "stdout",
          "text": [
            "14/14 [==============================] - 1s 83ms/step - loss: 1.1143 - accuracy: 0.5374\n",
            "Validation Loss: 1.1142553091049194\n",
            "Validation Accuracy: 0.5374149680137634\n"
          ]
        }
      ]
    },
    {
      "cell_type": "code",
      "source": [
        "import matplotlib.pyplot as plt\n"
      ],
      "metadata": {
        "id": "oShE3494neru"
      },
      "id": "oShE3494neru",
      "execution_count": 44,
      "outputs": []
    },
    {
      "cell_type": "code",
      "source": [
        "# Plot training & validation accuracy values\n",
        "plt.figure(figsize=(10, 6))\n",
        "plt.plot(history.history['accuracy'])\n",
        "plt.plot(history.history['val_accuracy'])\n",
        "plt.title('Model accuracy')\n",
        "plt.ylabel('Accuracy')\n",
        "plt.xlabel('Epoch')\n",
        "plt.legend(['Train', 'Validation'], loc='upper left')\n",
        "plt.grid()\n",
        "plt.show()"
      ],
      "metadata": {
        "colab": {
          "base_uri": "https://localhost:8080/",
          "height": 564
        },
        "id": "srYo5nnmlwFL",
        "outputId": "e09d4d10-e7a4-4674-a6b9-5a0c76c42036"
      },
      "id": "srYo5nnmlwFL",
      "execution_count": 45,
      "outputs": [
        {
          "output_type": "display_data",
          "data": {
            "text/plain": [
              "<Figure size 1000x600 with 1 Axes>"
            ],
            "image/png": "[encoded data removed]"
          },
          "metadata": {}
        }
      ]
    },
    {
      "cell_type": "code",
      "source": [
        "# Plot training & validation loss values\n",
        "plt.figure(figsize=(10, 6))\n",
        "plt.plot(history.history['loss'])\n",
        "plt.plot(history.history['val_loss'])\n",
        "plt.title('Model loss')\n",
        "plt.ylabel('Loss')\n",
        "plt.xlabel('Epoch')\n",
        "plt.legend(['Train', 'Validation'], loc='upper left')\n",
        "plt.grid()\n",
        "plt.show()"
      ],
      "metadata": {
        "colab": {
          "base_uri": "https://localhost:8080/",
          "height": 564
        },
        "id": "0FxlAOM4ngNu",
        "outputId": "14a7b686-402a-42b4-9fdc-f28c78494fec"
      },
      "id": "0FxlAOM4ngNu",
      "execution_count": 46,
      "outputs": [
        {
          "output_type": "display_data",
          "data": {
            "text/plain": [
              "<Figure size 1000x600 with 1 Axes>"
            ],
            "image/png": "[encoded data removed]"
          },
          "metadata": {}
        }
      ]
    },
    {
      "cell_type": "code",
      "source": [],
      "metadata": {
        "id": "8Ylu2CbEnmHh"
      },
      "id": "8Ylu2CbEnmHh",
      "execution_count": null,
      "outputs": []
    }
  ],
  "metadata": {
    "kernelspec": {
      "display_name": "Python 3",
      "name": "python3"
    },
    "language_info": {
      "codemirror_mode": {
        "name": "ipython",
        "version": 3
      },
      "file_extension": ".py",
      "mimetype": "text/x-python",
      "name": "python",
      "nbconvert_exporter": "python",
      "pygments_lexer": "ipython3",
      "version": "3.10.12"
    },
    "colab": {
      "provenance": [],
      "gpuType": "T4"
    },
    "accelerator": "GPU"
  },
  "nbformat": 4,
  "nbformat_minor": 5
}