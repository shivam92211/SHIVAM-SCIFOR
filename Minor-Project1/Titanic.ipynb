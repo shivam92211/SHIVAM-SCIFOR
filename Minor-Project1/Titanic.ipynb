{
 "cells": [
  {
   "cell_type": "code",
   "execution_count": 1,
   "metadata": {},
   "outputs": [],
   "source": [
    "import numpy as np\n",
    "import pandas as pd\n",
    "from sklearn.model_selection import train_test_split\n",
    "from sklearn.ensemble import RandomForestClassifier\n",
    "from sklearn.linear_model import LogisticRegression\n",
    "from sklearn.naive_bayes import GaussianNB\n",
    "from sklearn.svm import SVC\n",
    "\n",
    "from sklearn.compose import ColumnTransformer\n",
    "from sklearn.pipeline import Pipeline\n",
    "from sklearn.impute import SimpleImputer\n",
    "from sklearn.preprocessing import StandardScaler, MinMaxScaler, OneHotEncoder\n",
    "from feature_engine.encoding import CountFrequencyEncoder\n",
    "from feature_engine.outliers.winsorizer import Winsorizer\n",
    "from sklearn.metrics import accuracy_score, precision_score, recall_score, f1_score\n",
    "\n",
    "import matplotlib.pyplot as plt\n",
    "import seaborn as sns\n"
   ]
  },
  {
   "cell_type": "code",
   "execution_count": 2,
   "metadata": {},
   "outputs": [],
   "source": [
    "\n",
    "# Read the CSV file\n",
    "df = pd.read_csv('titanic_train.csv')\n",
    "\n",
    "# Columns to drop\n",
    "columns_to_drop = ['passengerid', 'name', 'ticket', 'cabin']\n",
    "\n",
    "# Data cleaning function\n",
    "def clean_data(df):\n",
    "    return (\n",
    "        df\n",
    "        .rename(columns=str.lower)\n",
    "        .drop(columns=columns_to_drop)\n",
    "        .assign(family=lambda df_: df_['sibsp'] + df_['parch'])\n",
    "        .drop(columns=['sibsp', 'parch'])\n",
    "    )\n",
    "\n",
    "# Clean the data\n",
    "final_df = clean_data(df)\n"
   ]
  },
  {
   "cell_type": "code",
   "execution_count": 3,
   "metadata": {},
   "outputs": [],
   "source": [
    "\n",
    "# Define X and y\n",
    "X = final_df.drop(columns=['survived'])\n",
    "y = final_df['survived']\n",
    "\n",
    "# Train-test split\n",
    "x_train, x_test, y_train, y_test = train_test_split(X, y, test_size=0.2, random_state=42)\n",
    "\n",
    "# Preprocessing pipelines\n",
    "age_pipe = Pipeline(steps=[\n",
    "    ('impute', SimpleImputer(strategy='median')),\n",
    "    ('outlier', Winsorizer(capping_method='gaussian', fold=3)),\n",
    "    ('scale', StandardScaler())\n",
    "])\n",
    "\n",
    "fare_pipe = Pipeline(steps=[\n",
    "    ('outlier', Winsorizer(capping_method=\"iqr\", fold=1.5)),\n",
    "    ('scale', StandardScaler())\n",
    "])\n",
    "\n",
    "embarked_pipe = Pipeline(steps=[\n",
    "    ('impute', SimpleImputer(strategy='most_frequent')),\n",
    "    ('count_encode', CountFrequencyEncoder(encoding_method='count')),\n",
    "    ('scale', MinMaxScaler())\n",
    "])\n",
    "\n",
    "preprocessor = ColumnTransformer(\n",
    "    transformers=[\n",
    "        ('age', age_pipe, ['age']),\n",
    "        ('fare', fare_pipe, ['fare']),\n",
    "        ('embarked', embarked_pipe, ['embarked']),\n",
    "        ('sex', OneHotEncoder(sparse_output=False, handle_unknown='ignore'), ['sex']),\n",
    "        ('family', MinMaxScaler(), ['family'])\n",
    "    ],\n",
    "    remainder='passthrough',  # Keep other columns unchanged\n",
    "    n_jobs=-1  # Parallel processing\n",
    ")\n"
   ]
  },
  {
   "cell_type": "code",
   "execution_count": 4,
   "metadata": {},
   "outputs": [],
   "source": [
    "\n",
    "# Function to evaluate model\n",
    "def evaluate_model(model, x_test, y_test):\n",
    "    y_pred = model.predict(x_test)\n",
    "    accuracy = accuracy_score(y_test, y_pred)\n",
    "    precision = precision_score(y_test, y_pred)\n",
    "    recall = recall_score(y_test, y_pred)\n",
    "    f1 = f1_score(y_test, y_pred)\n",
    "    return accuracy, precision, recall, f1\n"
   ]
  },
  {
   "cell_type": "code",
   "execution_count": 5,
   "metadata": {},
   "outputs": [],
   "source": [
    "# Model Pipelines\n",
    "models = {\n",
    "    \"Logistic Regression\": Pipeline(steps=[('preprocessor', preprocessor),\n",
    "                                           ('classifier', LogisticRegression(random_state=42))]),\n",
    "    \"Naive Bayes\": Pipeline(steps=[('preprocessor', preprocessor),\n",
    "                                   ('classifier', GaussianNB())]),\n",
    "    \"SVM\": Pipeline(steps=[('preprocessor', preprocessor),\n",
    "                           ('classifier', SVC(random_state=42))]),\n",
    "    \"Random Forest\": Pipeline(steps=[('preprocessor', preprocessor),\n",
    "                                     ('classifier', RandomForestClassifier(random_state=42))])\n",
    "}\n"
   ]
  },
  {
   "cell_type": "code",
   "execution_count": 6,
   "metadata": {},
   "outputs": [
    {
     "name": "stdout",
     "output_type": "stream",
     "text": [
      "Training Logistic Regression...\n",
      "Training Naive Bayes...\n",
      "Training SVM...\n",
      "Training Random Forest...\n"
     ]
    }
   ],
   "source": [
    "# Training and evaluating the models\n",
    "results = {}\n",
    "for model_name, model_pipeline in models.items():\n",
    "    print(f\"Training {model_name}...\")\n",
    "    model_pipeline.fit(x_train, y_train)\n",
    "    accuracy, precision, recall, f1 = evaluate_model(model_pipeline, x_test, y_test)\n",
    "    results[model_name] = {\n",
    "        \"Accuracy\": accuracy,\n",
    "        \"Precision\": precision,\n",
    "        \"Recall\": recall,\n",
    "        \"F1 Score\": f1\n",
    "    }\n"
   ]
  },
  {
   "cell_type": "code",
   "execution_count": 7,
   "metadata": {},
   "outputs": [
    {
     "name": "stdout",
     "output_type": "stream",
     "text": [
      "                     Accuracy  Precision    Recall  F1 Score\n",
      "Logistic Regression  0.798883   0.771429  0.729730  0.750000\n",
      "Naive Bayes          0.765363   0.710526  0.729730  0.720000\n",
      "SVM                  0.793296   0.776119  0.702703  0.737589\n",
      "Random Forest        0.810056   0.770270  0.770270  0.770270\n"
     ]
    }
   ],
   "source": [
    "# Display the results\n",
    "results_df = pd.DataFrame(results).T\n",
    "print(results_df)"
   ]
  },
  {
   "cell_type": "code",
   "execution_count": 8,
   "metadata": {},
   "outputs": [
    {
     "data": {
      "text/plain": [
       "<Figure size 1000x600 with 0 Axes>"
      ]
     },
     "metadata": {},
     "output_type": "display_data"
    },
    {
     "data": {
      "image/png": "[encoded data removed]",
      "text/plain": [
       "<Figure size 640x480 with 1 Axes>"
      ]
     },
     "metadata": {},
     "output_type": "display_data"
    }
   ],
   "source": [
    "\n",
    "# Plotting the comparison of models\n",
    "plt.figure(figsize=(10, 6))\n",
    "results_df.plot(kind='bar')\n",
    "plt.title('Comparison of Classification Models')\n",
    "plt.xlabel('Models')\n",
    "plt.ylabel('Score')\n",
    "plt.ylim(0, 1)\n",
    "plt.xticks(rotation=45)\n",
    "plt.legend(loc='lower right')\n",
    "plt.tight_layout()\n",
    "plt.savefig('model_comparison.png', format='png', dpi=300)\n",
    "plt.show()"
   ]
  },
  {
   "cell_type": "code",
   "execution_count": null,
   "metadata": {},
   "outputs": [],
   "source": []
  }
 ],
 "metadata": {
  "kernelspec": {
   "display_name": "tensorflow",
   "language": "python",
   "name": "python3"
  },
  "language_info": {
   "codemirror_mode": {
    "name": "ipython",
    "version": 3
   },
   "file_extension": ".py",
   "mimetype": "text/x-python",
   "name": "python",
   "nbconvert_exporter": "python",
   "pygments_lexer": "ipython3",
   "version": "3.9.18"
  }
 },
 "nbformat": 4,
 "nbformat_minor": 2
}
