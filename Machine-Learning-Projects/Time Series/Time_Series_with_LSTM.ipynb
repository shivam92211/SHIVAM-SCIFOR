{
  "cells": [
    {
      "cell_type": "markdown",
      "metadata": {
        "colab_type": "text",
        "id": "view-in-github"
      },
      "source": [
        "<a href=\"https://colab.research.google.com/github/shivam92211/Machine_Learning_Projects/blob/main/Time%20Series/Time_Series_with_LSTM.ipynb\" target=\"_parent\"><img src=\"https://colab.research.google.com/assets/colab-badge.svg\" alt=\"Open In Colab\"/></a>"
      ]
    },
    {
      "cell_type": "code",
      "execution_count": 1,
      "metadata": {
        "id": "VYLHIgIx-_y5"
      },
      "outputs": [
        {
          "name": "stderr",
          "output_type": "stream",
          "text": [
            "2024-08-29 22:45:59.472673: E external/local_xla/xla/stream_executor/cuda/cuda_fft.cc:485] Unable to register cuFFT factory: Attempting to register factory for plugin cuFFT when one has already been registered\n",
            "2024-08-29 22:45:59.630408: E external/local_xla/xla/stream_executor/cuda/cuda_dnn.cc:8454] Unable to register cuDNN factory: Attempting to register factory for plugin cuDNN when one has already been registered\n",
            "2024-08-29 22:45:59.673745: E external/local_xla/xla/stream_executor/cuda/cuda_blas.cc:1452] Unable to register cuBLAS factory: Attempting to register factory for plugin cuBLAS when one has already been registered\n",
            "2024-08-29 22:46:02.157697: W tensorflow/compiler/tf2tensorrt/utils/py_utils.cc:38] TF-TRT Warning: Could not find TensorRT\n"
          ]
        }
      ],
      "source": [
        "import numpy\n",
        "import matplotlib.pyplot as plt\n",
        "import pandas\n",
        "import math\n",
        "from keras.models import Sequential\n",
        "from keras.layers import Dense\n",
        "from keras.layers import LSTM\n",
        "from sklearn.preprocessing import MinMaxScaler\n",
        "from sklearn.metrics import mean_squared_error\n"
      ]
    },
    {
      "cell_type": "code",
      "execution_count": 2,
      "metadata": {
        "id": "PH8Qxr-C_9Rq"
      },
      "outputs": [],
      "source": [
        "# fix random seed for reproducibility\n",
        "numpy.random.seed(7)"
      ]
    },
    {
      "cell_type": "code",
      "execution_count": 3,
      "metadata": {
        "id": "gU1esqWQ_RiJ"
      },
      "outputs": [],
      "source": [
        "# load the dataset\n",
        "dataframe = pandas.read_csv('airline-passengers.csv', usecols=[1], engine='python')\n",
        "dataset = dataframe.values\n",
        "dataset = dataset.astype('float32')"
      ]
    },
    {
      "cell_type": "code",
      "execution_count": 4,
      "metadata": {
        "id": "3WML4Z23AA1m"
      },
      "outputs": [],
      "source": [
        "# normalize the dataset\n",
        "scaler = MinMaxScaler(feature_range=(0, 1))\n",
        "dataset = scaler.fit_transform(dataset)"
      ]
    },
    {
      "cell_type": "code",
      "execution_count": 5,
      "metadata": {
        "colab": {
          "base_uri": "https://localhost:8080/"
        },
        "id": "lackj-VCAD-u",
        "outputId": "a7dd6b6c-bb8c-4ddc-e6f0-d5ddd03d0c1c"
      },
      "outputs": [
        {
          "name": "stdout",
          "output_type": "stream",
          "text": [
            "96 48\n"
          ]
        }
      ],
      "source": [
        "# split into train and test sets\n",
        "train_size = int(len(dataset) * 0.67)\n",
        "test_size = len(dataset) - train_size\n",
        "train, test = dataset[0:train_size,:], dataset[train_size:len(dataset),:]\n",
        "print(len(train), len(test))"
      ]
    },
    {
      "cell_type": "code",
      "execution_count": 6,
      "metadata": {
        "id": "Bh8pvKPxAKp9"
      },
      "outputs": [],
      "source": [
        "# convert an array of values into a dataset matrix\n",
        "def create_dataset(dataset, look_back=1):\n",
        "\tdataX, dataY = [], []\n",
        "\tfor i in range(len(dataset)-look_back-1):\n",
        "\t\ta = dataset[i:(i+look_back), 0]\n",
        "\t\tdataX.append(a)\n",
        "\t\tdataY.append(dataset[i + look_back, 0])\n",
        "\treturn numpy.array(dataX), numpy.array(dataY)"
      ]
    },
    {
      "cell_type": "code",
      "execution_count": 7,
      "metadata": {
        "id": "miOtlf09A-Jl"
      },
      "outputs": [],
      "source": [
        "# reshape into X=t and Y=t+1\n",
        "look_back = 1\n",
        "trainX, trainY = create_dataset(train, look_back)\n",
        "testX, testY = create_dataset(test, look_back)"
      ]
    },
    {
      "cell_type": "code",
      "execution_count": 8,
      "metadata": {
        "id": "5om1rs0JBHQt"
      },
      "outputs": [],
      "source": [
        "# reshape input to be [samples, time steps, features]\n",
        "trainX = numpy.reshape(trainX, (trainX.shape[0], 1, trainX.shape[1]))\n",
        "testX = numpy.reshape(testX, (testX.shape[0], 1, testX.shape[1]))"
      ]
    },
    {
      "cell_type": "code",
      "execution_count": 9,
      "metadata": {
        "colab": {
          "base_uri": "https://localhost:8080/"
        },
        "id": "Z8uejrQMBawq",
        "outputId": "f95c65cb-a672-439f-8376-e915b61b5120"
      },
      "outputs": [
        {
          "name": "stdout",
          "output_type": "stream",
          "text": [
            "Epoch 1/100\n"
          ]
        },
        {
          "name": "stderr",
          "output_type": "stream",
          "text": [
            "2024-08-29 22:47:07.018833: E external/local_xla/xla/stream_executor/cuda/cuda_driver.cc:266] failed call to cuInit: CUDA_ERROR_NO_DEVICE: no CUDA-capable device is detected\n",
            "/home/shiv/miniconda3/envs/tensorflow/lib/python3.9/site-packages/keras/src/layers/rnn/rnn.py:204: UserWarning: Do not pass an `input_shape`/`input_dim` argument to a layer. When using Sequential models, prefer using an `Input(shape)` object as the first layer in the model instead.\n",
            "  super().__init__(**kwargs)\n"
          ]
        },
        {
          "name": "stdout",
          "output_type": "stream",
          "text": [
            "94/94 - 2s - 17ms/step - loss: 0.0485\n",
            "Epoch 2/100\n",
            "94/94 - 0s - 1ms/step - loss: 0.0238\n",
            "Epoch 3/100\n",
            "94/94 - 0s - 2ms/step - loss: 0.0179\n",
            "Epoch 4/100\n",
            "94/94 - 0s - 2ms/step - loss: 0.0162\n",
            "Epoch 5/100\n",
            "94/94 - 0s - 2ms/step - loss: 0.0151\n",
            "Epoch 6/100\n",
            "94/94 - 0s - 2ms/step - loss: 0.0140\n",
            "Epoch 7/100\n",
            "94/94 - 0s - 2ms/step - loss: 0.0129\n",
            "Epoch 8/100\n",
            "94/94 - 0s - 2ms/step - loss: 0.0118\n",
            "Epoch 9/100\n",
            "94/94 - 0s - 1ms/step - loss: 0.0106\n",
            "Epoch 10/100\n",
            "94/94 - 0s - 2ms/step - loss: 0.0095\n",
            "Epoch 11/100\n",
            "94/94 - 0s - 2ms/step - loss: 0.0087\n",
            "Epoch 12/100\n",
            "94/94 - 0s - 2ms/step - loss: 0.0075\n",
            "Epoch 13/100\n",
            "94/94 - 0s - 2ms/step - loss: 0.0067\n",
            "Epoch 14/100\n",
            "94/94 - 0s - 2ms/step - loss: 0.0058\n",
            "Epoch 15/100\n",
            "94/94 - 0s - 2ms/step - loss: 0.0049\n",
            "Epoch 16/100\n",
            "94/94 - 0s - 2ms/step - loss: 0.0042\n",
            "Epoch 17/100\n",
            "94/94 - 0s - 2ms/step - loss: 0.0037\n",
            "Epoch 18/100\n",
            "94/94 - 0s - 2ms/step - loss: 0.0033\n",
            "Epoch 19/100\n",
            "94/94 - 0s - 2ms/step - loss: 0.0028\n",
            "Epoch 20/100\n",
            "94/94 - 0s - 2ms/step - loss: 0.0026\n",
            "Epoch 21/100\n",
            "94/94 - 0s - 2ms/step - loss: 0.0024\n",
            "Epoch 22/100\n",
            "94/94 - 0s - 2ms/step - loss: 0.0022\n",
            "Epoch 23/100\n",
            "94/94 - 0s - 2ms/step - loss: 0.0022\n",
            "Epoch 24/100\n",
            "94/94 - 0s - 2ms/step - loss: 0.0021\n",
            "Epoch 25/100\n",
            "94/94 - 0s - 2ms/step - loss: 0.0021\n",
            "Epoch 26/100\n",
            "94/94 - 0s - 1ms/step - loss: 0.0020\n",
            "Epoch 27/100\n",
            "94/94 - 0s - 1ms/step - loss: 0.0020\n",
            "Epoch 28/100\n",
            "94/94 - 0s - 1ms/step - loss: 0.0020\n",
            "Epoch 29/100\n",
            "94/94 - 0s - 1ms/step - loss: 0.0020\n",
            "Epoch 30/100\n",
            "94/94 - 0s - 1ms/step - loss: 0.0020\n",
            "Epoch 31/100\n",
            "94/94 - 0s - 1ms/step - loss: 0.0020\n",
            "Epoch 32/100\n",
            "94/94 - 0s - 2ms/step - loss: 0.0020\n",
            "Epoch 33/100\n",
            "94/94 - 0s - 3ms/step - loss: 0.0020\n",
            "Epoch 34/100\n",
            "94/94 - 0s - 2ms/step - loss: 0.0020\n",
            "Epoch 35/100\n",
            "94/94 - 0s - 2ms/step - loss: 0.0020\n",
            "Epoch 36/100\n",
            "94/94 - 0s - 2ms/step - loss: 0.0020\n",
            "Epoch 37/100\n",
            "94/94 - 0s - 2ms/step - loss: 0.0021\n",
            "Epoch 38/100\n",
            "94/94 - 0s - 2ms/step - loss: 0.0020\n",
            "Epoch 39/100\n",
            "94/94 - 0s - 1ms/step - loss: 0.0020\n",
            "Epoch 40/100\n",
            "94/94 - 0s - 2ms/step - loss: 0.0020\n",
            "Epoch 41/100\n",
            "94/94 - 0s - 2ms/step - loss: 0.0019\n",
            "Epoch 42/100\n",
            "94/94 - 0s - 1ms/step - loss: 0.0020\n",
            "Epoch 43/100\n",
            "94/94 - 0s - 1ms/step - loss: 0.0020\n",
            "Epoch 44/100\n",
            "94/94 - 0s - 2ms/step - loss: 0.0020\n",
            "Epoch 45/100\n",
            "94/94 - 0s - 2ms/step - loss: 0.0020\n",
            "Epoch 46/100\n",
            "94/94 - 0s - 2ms/step - loss: 0.0020\n",
            "Epoch 47/100\n",
            "94/94 - 0s - 1ms/step - loss: 0.0020\n",
            "Epoch 48/100\n",
            "94/94 - 0s - 2ms/step - loss: 0.0020\n",
            "Epoch 49/100\n",
            "94/94 - 0s - 2ms/step - loss: 0.0020\n",
            "Epoch 50/100\n",
            "94/94 - 0s - 1ms/step - loss: 0.0020\n",
            "Epoch 51/100\n",
            "94/94 - 0s - 1ms/step - loss: 0.0020\n",
            "Epoch 52/100\n",
            "94/94 - 0s - 1ms/step - loss: 0.0021\n",
            "Epoch 53/100\n",
            "94/94 - 0s - 1ms/step - loss: 0.0020\n",
            "Epoch 54/100\n",
            "94/94 - 0s - 2ms/step - loss: 0.0020\n",
            "Epoch 55/100\n",
            "94/94 - 0s - 2ms/step - loss: 0.0020\n",
            "Epoch 56/100\n",
            "94/94 - 0s - 2ms/step - loss: 0.0020\n",
            "Epoch 57/100\n",
            "94/94 - 0s - 1ms/step - loss: 0.0020\n",
            "Epoch 58/100\n",
            "94/94 - 0s - 1ms/step - loss: 0.0019\n",
            "Epoch 59/100\n",
            "94/94 - 0s - 2ms/step - loss: 0.0020\n",
            "Epoch 60/100\n",
            "94/94 - 0s - 1ms/step - loss: 0.0020\n",
            "Epoch 61/100\n",
            "94/94 - 0s - 1ms/step - loss: 0.0021\n",
            "Epoch 62/100\n",
            "94/94 - 0s - 2ms/step - loss: 0.0020\n",
            "Epoch 63/100\n",
            "94/94 - 0s - 2ms/step - loss: 0.0020\n",
            "Epoch 64/100\n",
            "94/94 - 0s - 2ms/step - loss: 0.0020\n",
            "Epoch 65/100\n",
            "94/94 - 0s - 1ms/step - loss: 0.0020\n",
            "Epoch 66/100\n",
            "94/94 - 0s - 1ms/step - loss: 0.0020\n",
            "Epoch 67/100\n",
            "94/94 - 0s - 1ms/step - loss: 0.0020\n",
            "Epoch 68/100\n",
            "94/94 - 0s - 1ms/step - loss: 0.0020\n",
            "Epoch 69/100\n",
            "94/94 - 0s - 1ms/step - loss: 0.0020\n",
            "Epoch 70/100\n",
            "94/94 - 0s - 1ms/step - loss: 0.0020\n",
            "Epoch 71/100\n",
            "94/94 - 0s - 1ms/step - loss: 0.0020\n",
            "Epoch 72/100\n",
            "94/94 - 0s - 2ms/step - loss: 0.0020\n",
            "Epoch 73/100\n",
            "94/94 - 0s - 2ms/step - loss: 0.0020\n",
            "Epoch 74/100\n",
            "94/94 - 0s - 1ms/step - loss: 0.0020\n",
            "Epoch 75/100\n",
            "94/94 - 0s - 1ms/step - loss: 0.0019\n",
            "Epoch 76/100\n",
            "94/94 - 0s - 1ms/step - loss: 0.0020\n",
            "Epoch 77/100\n",
            "94/94 - 0s - 2ms/step - loss: 0.0019\n",
            "Epoch 78/100\n",
            "94/94 - 0s - 1ms/step - loss: 0.0020\n",
            "Epoch 79/100\n",
            "94/94 - 0s - 2ms/step - loss: 0.0020\n",
            "Epoch 80/100\n",
            "94/94 - 0s - 1ms/step - loss: 0.0020\n",
            "Epoch 81/100\n",
            "94/94 - 0s - 1ms/step - loss: 0.0021\n",
            "Epoch 82/100\n",
            "94/94 - 0s - 1ms/step - loss: 0.0020\n",
            "Epoch 83/100\n",
            "94/94 - 0s - 4ms/step - loss: 0.0020\n",
            "Epoch 84/100\n",
            "94/94 - 0s - 1ms/step - loss: 0.0020\n",
            "Epoch 85/100\n",
            "94/94 - 0s - 2ms/step - loss: 0.0020\n",
            "Epoch 86/100\n",
            "94/94 - 0s - 1ms/step - loss: 0.0021\n",
            "Epoch 87/100\n",
            "94/94 - 0s - 1ms/step - loss: 0.0020\n",
            "Epoch 88/100\n",
            "94/94 - 0s - 1ms/step - loss: 0.0020\n",
            "Epoch 89/100\n",
            "94/94 - 0s - 1ms/step - loss: 0.0020\n",
            "Epoch 90/100\n",
            "94/94 - 0s - 2ms/step - loss: 0.0020\n",
            "Epoch 91/100\n",
            "94/94 - 0s - 1ms/step - loss: 0.0021\n",
            "Epoch 92/100\n",
            "94/94 - 0s - 2ms/step - loss: 0.0020\n",
            "Epoch 93/100\n",
            "94/94 - 0s - 1ms/step - loss: 0.0019\n",
            "Epoch 94/100\n",
            "94/94 - 0s - 1ms/step - loss: 0.0020\n",
            "Epoch 95/100\n",
            "94/94 - 0s - 2ms/step - loss: 0.0020\n",
            "Epoch 96/100\n",
            "94/94 - 0s - 2ms/step - loss: 0.0019\n",
            "Epoch 97/100\n",
            "94/94 - 0s - 1ms/step - loss: 0.0020\n",
            "Epoch 98/100\n",
            "94/94 - 0s - 1ms/step - loss: 0.0020\n",
            "Epoch 99/100\n",
            "94/94 - 0s - 1ms/step - loss: 0.0020\n",
            "Epoch 100/100\n",
            "94/94 - 0s - 2ms/step - loss: 0.0019\n"
          ]
        },
        {
          "data": {
            "text/plain": [
              "<keras.src.callbacks.history.History at 0x768575a26f10>"
            ]
          },
          "execution_count": 9,
          "metadata": {},
          "output_type": "execute_result"
        }
      ],
      "source": [
        "# create and fit the LSTM network\n",
        "model = Sequential()\n",
        "model.add(LSTM(4, input_shape=(1, look_back)))\n",
        "model.add(Dense(1))\n",
        "model.compile(loss='mean_squared_error', optimizer='adam')\n",
        "model.fit(trainX, trainY, epochs=100, batch_size=1, verbose=2)"
      ]
    },
    {
      "cell_type": "code",
      "execution_count": 10,
      "metadata": {
        "colab": {
          "base_uri": "https://localhost:8080/"
        },
        "id": "h5wkqGa2BfKS",
        "outputId": "3fcba609-5e33-4140-b784-3d0faa65ccec"
      },
      "outputs": [
        {
          "name": "stdout",
          "output_type": "stream",
          "text": [
            "\u001b[1m3/3\u001b[0m \u001b[32m━━━━━━━━━━━━━━━━━━━━\u001b[0m\u001b[37m\u001b[0m \u001b[1m0s\u001b[0m 91ms/step\n",
            "\u001b[1m2/2\u001b[0m \u001b[32m━━━━━━━━━━━━━━━━━━━━\u001b[0m\u001b[37m\u001b[0m \u001b[1m0s\u001b[0m 4ms/step \n"
          ]
        }
      ],
      "source": [
        "# make predictions\n",
        "trainPredict = model.predict(trainX)\n",
        "testPredict = model.predict(testX)"
      ]
    },
    {
      "cell_type": "code",
      "execution_count": 11,
      "metadata": {
        "id": "ol3QWNN7B3-m"
      },
      "outputs": [],
      "source": [
        "# invert predictions\n",
        "trainPredict = scaler.inverse_transform(trainPredict)\n",
        "trainY = scaler.inverse_transform([trainY])\n",
        "testPredict = scaler.inverse_transform(testPredict)\n",
        "testY = scaler.inverse_transform([testY])"
      ]
    },
    {
      "cell_type": "code",
      "execution_count": 12,
      "metadata": {
        "id": "56aFJzraB6Bn"
      },
      "outputs": [],
      "source": [
        "# calculate root mean squared error\n",
        "trainScore = math.sqrt(mean_squared_error(trainY[0], trainPredict[:,0]))\n",
        "testScore = math.sqrt(mean_squared_error(testY[0], testPredict[:,0]))"
      ]
    },
    {
      "cell_type": "code",
      "execution_count": 13,
      "metadata": {
        "id": "tg_z2CwaCBH4"
      },
      "outputs": [],
      "source": [
        "# shift train predictions for plotting\n",
        "trainPredictPlot = numpy.empty_like(dataset)\n",
        "trainPredictPlot[:, :] = numpy.nan\n",
        "trainPredictPlot[look_back:len(trainPredict)+look_back, :] = trainPredict"
      ]
    },
    {
      "cell_type": "code",
      "execution_count": 14,
      "metadata": {
        "id": "t-Bd5bMTCJQJ"
      },
      "outputs": [],
      "source": [
        "# shift test predictions for plotting\n",
        "testPredictPlot = numpy.empty_like(dataset)\n",
        "testPredictPlot[:, :] = numpy.nan\n",
        "testPredictPlot[len(trainPredict)+(look_back*2)+1:len(dataset)-1, :] = testPredict"
      ]
    },
    {
      "cell_type": "code",
      "execution_count": 15,
      "metadata": {
        "colab": {
          "base_uri": "https://localhost:8080/",
          "height": 430
        },
        "id": "eTlz9V7PCMEW",
        "outputId": "ea5703e3-af5a-4b85-b793-d60e47c706a7"
      },
      "outputs": [
        {
          "data": {
            "image/png": "[encoded data removed]",
            "text/plain": [
              "<Figure size 640x480 with 1 Axes>"
            ]
          },
          "metadata": {},
          "output_type": "display_data"
        }
      ],
      "source": [
        "# plot baseline and predictions\n",
        "plt.plot(scaler.inverse_transform(dataset))\n",
        "plt.plot(trainPredictPlot)\n",
        "plt.plot(testPredictPlot)\n",
        "plt.show()"
      ]
    },
    {
      "cell_type": "code",
      "execution_count": null,
      "metadata": {
        "id": "79G8ZBT-CQrw"
      },
      "outputs": [],
      "source": []
    }
  ],
  "metadata": {
    "colab": {
      "authorship_tag": "ABX9TyPiKgEmAq2qE8A6vkLofO5z",
      "include_colab_link": true,
      "provenance": []
    },
    "kernelspec": {
      "display_name": "Python 3",
      "name": "python3"
    },
    "language_info": {
      "codemirror_mode": {
        "name": "ipython",
        "version": 3
      },
      "file_extension": ".py",
      "mimetype": "text/x-python",
      "name": "python",
      "nbconvert_exporter": "python",
      "pygments_lexer": "ipython3",
      "version": "3.9.18"
    }
  },
  "nbformat": 4,
  "nbformat_minor": 0
}
