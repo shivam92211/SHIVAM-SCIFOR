{
 "cells": [
  {
   "cell_type": "markdown",
   "source": [
    "# Conditionals and evaluations\n",
    "\n",
    "To work with logic in Python, you must first understand `if`, `else`, and `elif`. There are other conditional statements in Python however. This notebook will introduce you to the basic conditionals that will allow you to do the most amount of logic work.\n",
    "\n",
    "Evaluations go hand in hand with conditional statements because it is how Python decides to go into the next instruction or skip it."
   ],
   "metadata": {}
  },
  {
   "cell_type": "markdown",
   "source": [
    "## `if` conditions and evaluations"
   ],
   "metadata": {}
  },
  {
   "cell_type": "code",
   "execution_count": 1,
   "source": [
    "# all conditionals evaluate the result of the condition (expression)\n",
    "condition = True \n",
    "if condition:\n",
    "    print(\"The condition was met\")\n"
   ],
   "outputs": [
    {
     "output_type": "stream",
     "name": "stdout",
     "text": [
      "The condition was met\n"
     ]
    }
   ],
   "metadata": {}
  },
  {
   "cell_type": "code",
   "execution_count": null,
   "source": [
    "# if the condition changes to false, then it get skipped\n",
    "condition = False\n",
    "if condition:\n",
    "    print(\"Was the condition met?\")\n"
   ],
   "outputs": [],
   "metadata": {}
  },
  {
   "cell_type": "code",
   "execution_count": 3,
   "source": [
    "# some data structures are truthy: false when empty, but true when they contain items\n",
    "groceries = []\n",
    "if groceries:\n",
    "    print(\"we have some groceries!\")\n",
    "\n",
    "invites = [\"John\", \"George\"]\n",
    "if invites:\n",
    "    print(\"we have some invites!\")"
   ],
   "outputs": [
    {
     "output_type": "stream",
     "name": "stdout",
     "text": [
      "we have some invites!\n"
     ]
    }
   ],
   "metadata": {}
  },
  {
   "cell_type": "code",
   "execution_count": 5,
   "source": [
    "# other types like integers (0, and any positive integer) are truthy\n",
    "properties = 0\n",
    "if properties:\n",
    "    print(\"We have properties!\")\n",
    "\n",
    "parents = 2\n",
    "if parents:\n",
    "    print(\"we have parents!\")"
   ],
   "outputs": [
    {
     "output_type": "stream",
     "name": "stdout",
     "text": [
      "we have parents!\n"
     ]
    }
   ],
   "metadata": {}
  },
  {
   "cell_type": "code",
   "execution_count": 10,
   "source": [
    "# operators are supported \n",
    "if properties == 0:\n",
    "     print(\"no properties!\")\n",
    "\n",
    "if parents > 1:\n",
    "    print(\"there is more than 1 parent\")"
   ],
   "outputs": [
    {
     "output_type": "stream",
     "name": "stdout",
     "text": [
      "no properties!\n",
      "there is more than 1 parent\n"
     ]
    }
   ],
   "metadata": {}
  },
  {
   "cell_type": "markdown",
   "source": [
    "## `else` conditions\n",
    "When an `if` condition is not met, you can use an `else` condition (in that order!). Rule of thumb: don't try to compound several `if` and `else` conditions and keep them to a minimum, it otherwise makes code harder to read!"
   ],
   "metadata": {}
  },
  {
   "cell_type": "code",
   "execution_count": 6,
   "source": [
    "if properties:\n",
    "    print(\"We have properties\")\n",
    "else:\n",
    "    print(\"We don't have any properties\")"
   ],
   "outputs": [
    {
     "output_type": "stream",
     "name": "stdout",
     "text": [
      "We don't have any properties\n"
     ]
    }
   ],
   "metadata": {}
  },
  {
   "cell_type": "markdown",
   "source": [
    "## `elif` conditions\n",
    "This is useful when we want to add an `else` statement that needs to be mapped to a condition as well"
   ],
   "metadata": {}
  },
  {
   "cell_type": "code",
   "execution_count": 7,
   "source": [
    "if properties:\n",
    "    print(\"We have properties\")\n",
    "# evaluate if parents is valid\n",
    "elif parents:\n",
    "    print(\"We don't have any properties, but we have parents\")"
   ],
   "outputs": [
    {
     "output_type": "stream",
     "name": "stdout",
     "text": [
      "We don't have any properties, but we have parents\n"
     ]
    }
   ],
   "metadata": {}
  },
  {
   "cell_type": "markdown",
   "source": [
    "## Negative conditions\n",
    "\n",
    "By default, Python evaluates statements that are `True`. To represent a negative statement, you must add a `not` keyword. Watch out for statement that use `not` as it can make it harder to read!"
   ],
   "metadata": {}
  },
  {
   "cell_type": "code",
   "execution_count": 8,
   "source": [
    "name = None\n",
    "\n",
    "if not name:\n",
    "    print(\"Didn't get a name!\")"
   ],
   "outputs": [
    {
     "output_type": "stream",
     "name": "stdout",
     "text": [
      "Didn't get a name!\n"
     ]
    }
   ],
   "metadata": {}
  },
  {
   "cell_type": "code",
   "execution_count": 9,
   "source": [
    "# same is possible with elif conditions\n",
    "last_name = None\n",
    "\n",
    "if not name:\n",
    "    print(\"No name!\")\n",
    "elif not last_name:\n",
    "    print(\"No last name either!\")"
   ],
   "outputs": [
    {
     "output_type": "stream",
     "name": "stdout",
     "text": [
      "No name!\n"
     ]
    }
   ],
   "metadata": {}
  },
  {
   "cell_type": "markdown",
   "source": [
    "## Compounding conditions with `and`\n",
    "\n",
    "When multiple conditions must be met you can use `and` as well."
   ],
   "metadata": {}
  },
  {
   "cell_type": "code",
   "execution_count": 11,
   "source": [
    "has_kids = True\n",
    "married = True\n",
    "\n",
    "if has_kids and married:\n",
    "    print(\"This person is married and has kids\")"
   ],
   "outputs": [
    {
     "output_type": "stream",
     "name": "stdout",
     "text": [
      "This person is married\n"
     ]
    }
   ],
   "metadata": {}
  },
  {
   "cell_type": "code",
   "execution_count": 13,
   "source": [
    "# not can be used as well but can get harder to read\n",
    "\n",
    "likes_books = False\n",
    "is_logged_in = False\n",
    "\n",
    "if not likes_books and not is_logged_in:\n",
    "    print(\"User not logged in!\")\n"
   ],
   "outputs": [],
   "metadata": {}
  }
 ],
 "metadata": {
  "kernelspec": {
   "name": "python3",
   "display_name": "Python 3.8.10 64-bit"
  },
  "language_info": {
   "codemirror_mode": {
    "name": "ipython",
    "version": 3
   },
   "file_extension": ".py",
   "mimetype": "text/x-python",
   "name": "python",
   "nbconvert_exporter": "python",
   "pygments_lexer": "ipython3",
   "version": "3.8.10"
  },
  "orig_nbformat": 4,
  "vscode": {
   "interpreter": {
    "hash": "31f2aee4e71d21fbe5cf8b01ff0e069b9275f58929596ceb00d14d90e3e16cd6"
   }
  },
  "interpreter": {
   "hash": "31f2aee4e71d21fbe5cf8b01ff0e069b9275f58929596ceb00d14d90e3e16cd6"
  }
 },
 "nbformat": 4,
 "nbformat_minor": 2
}