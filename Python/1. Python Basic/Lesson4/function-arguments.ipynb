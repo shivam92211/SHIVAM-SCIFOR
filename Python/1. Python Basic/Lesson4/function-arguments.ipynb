{
 "cells": [
  {
   "cell_type": "markdown",
   "metadata": {},
   "source": [
    "## Function arguments"
   ]
  },
  {
   "cell_type": "code",
   "execution_count": 1,
   "metadata": {},
   "outputs": [
    {
     "data": {
      "text/plain": [
       "16"
      ]
     },
     "execution_count": 1,
     "metadata": {},
     "output_type": "execute_result"
    }
   ],
   "source": [
    "# a function definition with required arguments\n",
    "\n",
    "def squared(number):\n",
    "    return number**2\n",
    "\n",
    "squared(4)"
   ]
  },
  {
   "cell_type": "code",
   "execution_count": 2,
   "metadata": {},
   "outputs": [
    {
     "ename": "TypeError",
     "evalue": "squared() missing 1 required positional argument: 'number'",
     "output_type": "error",
     "traceback": [
      "\u001b[0;31m---------------------------------------------------------------------------\u001b[0m",
      "\u001b[0;31mTypeError\u001b[0m                                 Traceback (most recent call last)",
      "Cell \u001b[0;32mIn[2], line 3\u001b[0m\n\u001b[1;32m      1\u001b[0m \u001b[38;5;66;03m# cannot call a function without arguments when required\u001b[39;00m\n\u001b[0;32m----> 3\u001b[0m \u001b[43msquared\u001b[49m\u001b[43m(\u001b[49m\u001b[43m)\u001b[49m\n",
      "\u001b[0;31mTypeError\u001b[0m: squared() missing 1 required positional argument: 'number'"
     ]
    }
   ],
   "source": [
    "# cannot call a function without arguments when required\n",
    "\n",
    "squared()"
   ]
  },
  {
   "cell_type": "code",
   "execution_count": 3,
   "metadata": {},
   "outputs": [
    {
     "data": {
      "text/plain": [
       "0"
      ]
     },
     "execution_count": 3,
     "metadata": {},
     "output_type": "execute_result"
    }
   ],
   "source": [
    "# there are functions with optional arguments\n",
    "# this one will give you a 0, defaulting to no input\n",
    "int()\n"
   ]
  },
  {
   "cell_type": "code",
   "execution_count": 4,
   "metadata": {},
   "outputs": [
    {
     "data": {
      "text/plain": [
       "10"
      ]
     },
     "execution_count": 4,
     "metadata": {},
     "output_type": "execute_result"
    }
   ],
   "source": [
    "# but you can use an argument too, making it flexible\n",
    "int(\"10\")"
   ]
  },
  {
   "cell_type": "code",
   "execution_count": null,
   "metadata": {},
   "outputs": [],
   "source": [
    "# an optional argument uses a \"keyword argument\"\n",
    "\n",
    "def greetings(full_name=\"John Doe\"):\n",
    "    print(\"Greetings \", full_name)"
   ]
  },
  {
   "cell_type": "code",
   "execution_count": null,
   "metadata": {},
   "outputs": [],
   "source": [
    "# you can call the function with or without the argument because it has a default\n",
    "greetings()\n",
    "greetings(\"Superman!\")"
   ]
  },
  {
   "cell_type": "code",
   "execution_count": null,
   "metadata": {},
   "outputs": [],
   "source": [
    "# arguments always go before keyword arguments\n",
    "\n",
    "def formal_greeting(name, title=\"Dr.\"):\n",
    "    print(\"Greetings\", title, name)\n",
    "\n",
    "formal_greeting(\"Jenkins\")"
   ]
  }
 ],
 "metadata": {
  "kernelspec": {
   "display_name": "minienv",
   "language": "python",
   "name": "minienv"
  },
  "language_info": {
   "codemirror_mode": {
    "name": "ipython",
    "version": 3
   },
   "file_extension": ".py",
   "mimetype": "text/x-python",
   "name": "python",
   "nbconvert_exporter": "python",
   "pygments_lexer": "ipython3",
   "version": "3.9.18"
  },
  "orig_nbformat": 4,
  "vscode": {
   "interpreter": {
    "hash": "31f2aee4e71d21fbe5cf8b01ff0e069b9275f58929596ceb00d14d90e3e16cd6"
   }
  }
 },
 "nbformat": 4,
 "nbformat_minor": 2
}
